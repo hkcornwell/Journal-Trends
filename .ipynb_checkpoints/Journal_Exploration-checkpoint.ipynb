{
 "cells": [
  {
   "cell_type": "code",
   "execution_count": 81,
   "metadata": {},
   "outputs": [],
   "source": [
    "import requests\n",
    "from bs4 import BeautifulSoup\n",
    "import re\n",
    "import nltk\n",
    "from nltk.corpus import stopwords\n",
    "import numpy as np"
   ]
  },
  {
   "cell_type": "code",
   "execution_count": 2,
   "metadata": {},
   "outputs": [],
   "source": [
    "journal = 'composites-part-b-engineering'"
   ]
  },
  {
   "cell_type": "code",
   "execution_count": 3,
   "metadata": {},
   "outputs": [],
   "source": [
    "\n",
    "result = requests.get(\"https://www.journals.elsevier.com/\"+journal)\n",
    "soup = BeautifulSoup(result.content)\n",
    "metrics = soup.find_all(\"span\", \"tooltip\")\n",
    "met_names = ['CiteScore','ImpactFactor','5-year Impact Factor','Norm. Impact per Paper','Journal Rank']\n",
    "data = [a.b.text for a in metrics if a.b != None]\n",
    "del data[2:4]\n",
    "met_dict = dict(zip(met_names,data))"
   ]
  },
  {
   "cell_type": "code",
   "execution_count": 4,
   "metadata": {},
   "outputs": [
    {
     "data": {
      "text/plain": [
       "{'CiteScore': '11.1',\n",
       " 'ImpactFactor': '6.864',\n",
       " '5-year Impact Factor': '6.313',\n",
       " 'Norm. Impact per Paper': '2.619',\n",
       " 'Journal Rank': '1.925'}"
      ]
     },
     "execution_count": 4,
     "metadata": {},
     "output_type": "execute_result"
    }
   ],
   "source": [
    "met_dict"
   ]
  },
  {
   "cell_type": "code",
   "execution_count": 154,
   "metadata": {},
   "outputs": [],
   "source": [
    "volumes = [str(i) for i in range(150,196)]\n",
    "titles_str = []\n",
    "for i in volumes:\n",
    "    headers = {'User-Agent': 'Mozilla/5.0 (Windows NT 10.0; WOW64) AppleWebKit/537.36 (KHTML, like Gecko) Chrome/81.0.4044.138 Safari/537.36'}\n",
    "    url = \"https://www.sciencedirect.com/journal/composites-part-b-engineering/vol/\" + i +\"/suppl/C\"\n",
    "    r = requests.get(url, headers=headers)\n",
    "    site = BeautifulSoup(r.content)\n",
    "    titles = site.find_all(\"span\", class_=\"js-article-title\")\n",
    "    for j in titles:\n",
    "        titles_str.append(j.text)"
   ]
  },
  {
   "cell_type": "code",
   "execution_count": null,
   "metadata": {},
   "outputs": [],
   "source": []
  },
  {
   "cell_type": "code",
   "execution_count": 155,
   "metadata": {},
   "outputs": [],
   "source": [
    "sws = stopwords.words('english')\n",
    "titles_list = [re.split(r'\\W+',i) for i in titles_str]\n",
    "titles_set = [set(i).difference(sws)-{''} for i in titles_list]"
   ]
  },
  {
   "cell_type": "code",
   "execution_count": 156,
   "metadata": {},
   "outputs": [],
   "source": [
    "#total count\n",
    "total_list = [x for _list in titles_set for x in _list]\n",
    "total_set = list(set(total_list))\n",
    "\n",
    "count = [total_list.count(i) for i in total_set]\n",
    "total_dict = dict(zip(total_set,count))"
   ]
  },
  {
   "cell_type": "code",
   "execution_count": 157,
   "metadata": {},
   "outputs": [],
   "source": [
    "total_dict = {k: v for k, v in sorted(total_dict.items(), key=lambda item: item[1],reverse=True)}"
   ]
  },
  {
   "cell_type": "code",
   "execution_count": 158,
   "metadata": {},
   "outputs": [],
   "source": [
    "#Word matrix\n",
    "total_num = dict((j,i) for i,j in enumerate(total_set))"
   ]
  },
  {
   "cell_type": "code",
   "execution_count": 159,
   "metadata": {},
   "outputs": [],
   "source": [
    "word_mat = np.zeros((len(titles_set), len(total_set)))\n",
    "for i,j in enumerate(titles_set):\n",
    "    for k in list(j):\n",
    "        word_mat[i,total_num[k]] = 1\n",
    "        "
   ]
  },
  {
   "cell_type": "code",
   "execution_count": 161,
   "metadata": {},
   "outputs": [],
   "source": [
    "def dist_calc(image):\n",
    "    n = len(image)\n",
    "    #k = len(c)\n",
    "    S = np.empty((n, n))\n",
    "    for i in range(n):\n",
    "        d_i = np.linalg.norm(image[i, :] - image, ord=2, axis=1)\n",
    "        S[i, :] = d_i\n",
    "    return S\n",
    "D = dist_calc(word_mat)\n"
   ]
  },
  {
   "cell_type": "code",
   "execution_count": 162,
   "metadata": {},
   "outputs": [
    {
     "data": {
      "text/plain": [
       "array([[0.        , 4.        , 4.24264069, ..., 3.74165739, 3.46410162,\n",
       "        3.31662479],\n",
       "       [4.        , 0.        , 5.47722558, ..., 4.89897949, 4.89897949,\n",
       "        4.58257569],\n",
       "       [4.24264069, 5.47722558, 0.        , ..., 5.09901951, 5.09901951,\n",
       "        4.79583152],\n",
       "       ...,\n",
       "       [3.74165739, 4.89897949, 5.09901951, ..., 0.        , 4.69041576,\n",
       "        4.35889894],\n",
       "       [3.46410162, 4.89897949, 5.09901951, ..., 4.69041576, 0.        ,\n",
       "        4.12310563],\n",
       "       [3.31662479, 4.58257569, 4.79583152, ..., 4.35889894, 4.12310563,\n",
       "        0.        ]])"
      ]
     },
     "execution_count": 162,
     "metadata": {},
     "output_type": "execute_result"
    }
   ],
   "source": [
    "D"
   ]
  },
  {
   "cell_type": "code",
   "execution_count": null,
   "metadata": {},
   "outputs": [],
   "source": []
  }
 ],
 "metadata": {
  "kernelspec": {
   "display_name": "Python 3",
   "language": "python",
   "name": "python3"
  },
  "language_info": {
   "codemirror_mode": {
    "name": "ipython",
    "version": 3
   },
   "file_extension": ".py",
   "mimetype": "text/x-python",
   "name": "python",
   "nbconvert_exporter": "python",
   "pygments_lexer": "ipython3",
   "version": "3.7.6"
  }
 },
 "nbformat": 4,
 "nbformat_minor": 2
}
