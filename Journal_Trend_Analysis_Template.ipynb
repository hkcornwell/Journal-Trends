{
 "cells": [
  {
   "cell_type": "code",
   "execution_count": null,
   "metadata": {},
   "outputs": [],
   "source": [
    "import matplotlib.pyplot as plt\n",
    "import matplotlib.image as mpimg\n",
    "import numpy as np\n",
    "import warnings\n",
    "warnings.filterwarnings('ignore')\n",
    "\n",
    "journal = 'composites-part-b-engineering'\n",
    "max_vol = 195\n",
    "min_vol = 150\n",
    "num_vols = max_vol-min_vol"
   ]
  },
  {
   "cell_type": "code",
   "execution_count": null,
   "metadata": {},
   "outputs": [],
   "source": [
    "from utils import scrape\n",
    "scrape(journal, min_vol, max_vol)"
   ]
  },
  {
   "cell_type": "code",
   "execution_count": null,
   "metadata": {},
   "outputs": [],
   "source": [
    "from utils import clean_data\n",
    "data = clean_data(journal)\n",
    "data[1]"
   ]
  },
  {
   "cell_type": "code",
   "execution_count": null,
   "metadata": {},
   "outputs": [],
   "source": [
    "from utils import wordcloud\n",
    "wc = wordcloud(data, 70, 50, 5, \"white\")\n",
    "\n",
    "plt.figure(figsize=[10,10])\n",
    "plt.imshow(wc, interpolation='bilinear')\n",
    "plt.axis(\"off\")"
   ]
  },
  {
   "cell_type": "code",
   "execution_count": null,
   "metadata": {},
   "outputs": [],
   "source": [
    "from utils import word_freq\n",
    "wf = word_freq(data)\n",
    "\n",
    "keys = list(wf.keys())[0:20]\n",
    "values = [wf[i] for i in keys]\n",
    "plt.figure(figsize=[15,10])\n",
    "plt.bar(keys, values)\n",
    "plt.xticks(rotation=75)\n",
    "plt.show()"
   ]
  },
  {
   "cell_type": "code",
   "execution_count": null,
   "metadata": {},
   "outputs": [],
   "source": [
    "delete_words = ['A','based','analysis','high','using','composites']\n",
    "for i in delete_words:\n",
    "    del section_freq[i]\n",
    "\n",
    "span = len(list(section_freq.values())[0])\n",
    "x = np.linspace(1,span,span, dtype=int)\n",
    "\n",
    "plt.figure(figsize=[15,10])\n",
    "for i in section_freq.keys():\n",
    "    plt.plot(x,section_freq[i])\n",
    "plt.xlim(1,11)\n",
    "plt.xlabel(\"Journal Period\")\n",
    "plt.ylabel(\"Word Frequency\")\n",
    "plt.legend(section_freq.keys())\n",
    "plt.show()"
   ]
  },
  {
   "cell_type": "code",
   "execution_count": null,
   "metadata": {},
   "outputs": [],
   "source": [
    "from utils import word_connections\n",
    "\n",
    "words = ['polymer', 'graphene', 'carbon', 'fiber']\n",
    "connections = 7\n",
    "wc = word_connections(data, words, connections)\n",
    "for i in words:\n",
    "    print(i, wc[i])"
   ]
  }
 ],
 "metadata": {
  "kernelspec": {
   "display_name": "Python 3",
   "language": "python",
   "name": "python3"
  },
  "language_info": {
   "codemirror_mode": {
    "name": "ipython",
    "version": 3
   },
   "file_extension": ".py",
   "mimetype": "text/x-python",
   "name": "python",
   "nbconvert_exporter": "python",
   "pygments_lexer": "ipython3",
   "version": "3.8.3"
  }
 },
 "nbformat": 4,
 "nbformat_minor": 2
}
